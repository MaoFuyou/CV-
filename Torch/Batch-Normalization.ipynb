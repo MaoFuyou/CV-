{
 "cells": [
  {
   "cell_type": "code",
   "execution_count": 1,
   "metadata": {},
   "outputs": [],
   "source": [
    "#随机模块\n",
    "import random\n",
    "\n",
    "#时间测试模块\n",
    "import time\n",
    "\n",
    "#数学运算模块\n",
    "import math\n",
    "\n",
    "#科学绘图模块\n",
    "import matplotlib as mpl\n",
    "import matplotlib.pyplot as plt\n",
    "from mpl_toolkits.mplot3d import Axes3D\n",
    "\n",
    "#numpy\n",
    "import numpy as np\n",
    "\n",
    "#pandas\n",
    "#import pandas as pd\n",
    "\n",
    "#pytorch\n",
    "import torch\n",
    "from torch import nn,optim\n",
    "import torch.nn.functional as F\n",
    "from torch.utils.data import Dataset,TensorDataset,DataLoader\n",
    "\n",
    "#TorchLearning\n",
    "from torchLearning import *\n",
    "\n",
    "#Ipython\n",
    "from IPython.core.interactiveshell import InteractiveShell\n",
    "InteractiveShell.ast_node_interactivity = \"all\""
   ]
  },
  {
   "cell_type": "code",
   "execution_count": 2,
   "metadata": {},
   "outputs": [],
   "source": [
    "def Z_ScoreNormalization(data):\n",
    "    # (0)--> 对 col 操作！\n",
    "    stdDf = data.std(0)\n",
    "    meanDf = data.mean(0)\n",
    "    normSet = (data - meanDf)/stdDf\n",
    "    return normSet\n"
   ]
  },
  {
   "cell_type": "code",
   "execution_count": 3,
   "metadata": {},
   "outputs": [
    {
     "data": {
      "text/plain": [
       "<torch._C.Generator at 0x209e2438d90>"
      ]
     },
     "execution_count": 3,
     "metadata": {},
     "output_type": "execute_result"
    }
   ],
   "source": [
    "torch.manual_seed(420)\n",
    "\n",
    "features,labels = tensorGenReg(w=[2,-1],bias=False,deg =2)\n",
    "features_norm = Z_ScoreNormalization(features)\n",
    "\n",
    "train_loader ,test_loader = split_loader(features, labels)\n",
    "train_loader_norm, test_loader = split_loader(features_norm,labels)"
   ]
  },
  {
   "cell_type": "code",
   "execution_count": 4,
   "metadata": {},
   "outputs": [
    {
     "data": {
      "text/plain": [
       "<torch._C.Generator at 0x209e2438d90>"
      ]
     },
     "execution_count": 4,
     "metadata": {},
     "output_type": "execute_result"
    },
    {
     "data": {
      "text/plain": [
       "Parameter containing:\n",
       "tensor([[ 0.8590, -0.6975],\n",
       "        [ 0.1762, -0.7295],\n",
       "        [ 0.5904,  0.3405],\n",
       "        [-0.7281, -0.0867]], requires_grad=True)"
      ]
     },
     "execution_count": 4,
     "metadata": {},
     "output_type": "execute_result"
    },
    {
     "data": {
      "text/plain": [
       "Parameter containing:\n",
       "tensor([[-0.5633,  0.1303, -0.5045,  0.3393],\n",
       "        [-0.7823,  0.2525,  0.7264,  0.5470],\n",
       "        [ 0.7246, -0.0357, -0.6253,  0.1108],\n",
       "        [-0.3299, -0.5521,  0.5269,  0.1061]], requires_grad=True)"
      ]
     },
     "execution_count": 4,
     "metadata": {},
     "output_type": "execute_result"
    },
    {
     "data": {
      "text/plain": [
       "Parameter containing:\n",
       "tensor([[ 0.4386,  0.8341,  0.1352, -0.8077],\n",
       "        [ 0.2441,  0.4123,  0.0232, -0.7393],\n",
       "        [ 0.8236, -0.8110,  0.6018, -0.0395],\n",
       "        [ 0.6284, -0.7337,  0.8656,  0.2915]], requires_grad=True)"
      ]
     },
     "execution_count": 4,
     "metadata": {},
     "output_type": "execute_result"
    },
    {
     "data": {
      "text/plain": [
       "Parameter containing:\n",
       "tensor([[0.9703, 0.6656, 0.8244, 0.3487]], requires_grad=True)"
      ]
     },
     "execution_count": 4,
     "metadata": {},
     "output_type": "execute_result"
    },
    {
     "data": {
      "text/plain": [
       "Parameter containing:\n",
       "tensor([[-0.2945,  0.9237],\n",
       "        [ 0.7596, -0.6387],\n",
       "        [-0.0023, -0.3001],\n",
       "        [-0.9573,  0.0271]], requires_grad=True)"
      ]
     },
     "execution_count": 4,
     "metadata": {},
     "output_type": "execute_result"
    },
    {
     "data": {
      "text/plain": [
       "Parameter containing:\n",
       "tensor([[-0.5126, -0.1948, -0.2230,  0.7317],\n",
       "        [ 0.3355, -0.7767,  0.4933,  0.5650],\n",
       "        [ 0.3391,  0.3513,  0.3385,  0.0232],\n",
       "        [-0.7911, -0.4265,  0.5541,  0.2841]], requires_grad=True)"
      ]
     },
     "execution_count": 4,
     "metadata": {},
     "output_type": "execute_result"
    },
    {
     "data": {
      "text/plain": [
       "Parameter containing:\n",
       "tensor([[ 0.6846,  0.2079,  0.8334, -0.3973],\n",
       "        [-0.4116,  0.3072, -0.4335,  0.3472],\n",
       "        [ 0.0940, -0.3414,  0.2058,  0.8155],\n",
       "        [ 0.4660, -0.8182,  0.3571,  0.5147]], requires_grad=True)"
      ]
     },
     "execution_count": 4,
     "metadata": {},
     "output_type": "execute_result"
    },
    {
     "data": {
      "text/plain": [
       "Parameter containing:\n",
       "tensor([[ 0.7612, -0.2644,  0.8887,  0.8696]], requires_grad=True)"
      ]
     },
     "execution_count": 4,
     "metadata": {},
     "output_type": "execute_result"
    }
   ],
   "source": [
    "torch.manual_seed(24)\n",
    "lr = 0.01\n",
    "num_epochs = 20\n",
    "sigmoid_model3 = Sigmoid_class3()\n",
    "sigmoid_model3_norm = Sigmoid_class3()\n",
    "\n",
    "for m in sigmoid_model3.modules():\n",
    "    if isinstance(m,nn.Linear):\n",
    "        nn.init.xavier_uniform_(m.weight)\n",
    "\n",
    "for m in sigmoid_model3_norm.modules():\n",
    "    if isinstance(m, nn.Linear):\n",
    "        nn.init.xavier_uniform_(m.weight)\n",
    "\n",
    "train_l, test_l =  model_train_test(sigmoid_model3,\n",
    "                                 train_loader,\n",
    "                                 test_loader,\n",
    "                                 num_epochs= num_epochs,\n",
    "                                 criterion= nn.MSELoss(),\n",
    "                                 optimizer= optim.SGD,\n",
    "                                 lr = lr,\n",
    "                                 cla = False,\n",
    "                                 eva = mse_cal)\n",
    "\n",
    "train_l_norm, test_l_norm =  model_train_test(sigmoid_model3_norm,\n",
    "                                 train_loader_norm,\n",
    "                                 test_loader,\n",
    "                                 num_epochs= num_epochs,\n",
    "                                 criterion= nn.MSELoss(),\n",
    "                                 optimizer= optim.SGD,\n",
    "                                 lr = lr,\n",
    "                                 cla = False,\n",
    "                                 eva = mse_cal)"
   ]
  },
  {
   "cell_type": "code",
   "execution_count": 5,
   "metadata": {},
   "outputs": [
    {
     "data": {
      "text/plain": [
       "[<matplotlib.lines.Line2D at 0x2098b23ec10>]"
      ]
     },
     "execution_count": 5,
     "metadata": {},
     "output_type": "execute_result"
    },
    {
     "data": {
      "text/plain": [
       "[<matplotlib.lines.Line2D at 0x2098b23efa0>]"
      ]
     },
     "execution_count": 5,
     "metadata": {},
     "output_type": "execute_result"
    },
    {
     "data": {
      "text/plain": [
       "<matplotlib.legend.Legend at 0x2098b23ee50>"
      ]
     },
     "execution_count": 5,
     "metadata": {},
     "output_type": "execute_result"
    },
    {
     "data": {
      "image/png": "[encoded data removed]",
      "text/plain": [
       "<Figure size 432x288 with 1 Axes>"
      ]
     },
     "metadata": {
      "needs_background": "light"
     },
     "output_type": "display_data"
    }
   ],
   "source": [
    "plt.plot(list(range(num_epochs)),test_l,label = \"test_mse\")\n",
    "plt.plot(list(range(num_epochs)),test_l_norm,label = \"test_norm_mse\")\n",
    "plt.legend(loc = 6 )"
   ]
  },
  {
   "cell_type": "code",
   "execution_count": 6,
   "metadata": {},
   "outputs": [
    {
     "data": {
      "text/plain": [
       "tensor([[-0.0070,  0.5044],\n",
       "        [ 0.6704, -0.3829],\n",
       "        [ 0.0302,  0.3826],\n",
       "        ...,\n",
       "        [-0.9164, -0.6087],\n",
       "        [ 0.7815,  1.2865],\n",
       "        [ 1.4819,  1.1390]])"
      ]
     },
     "execution_count": 6,
     "metadata": {},
     "output_type": "execute_result"
    }
   ],
   "source": [
    "features"
   ]
  },
  {
   "cell_type": "code",
   "execution_count": 7,
   "metadata": {},
   "outputs": [
    {
     "data": {
      "text/plain": [
       "tensor([[-0.0463,  0.4504],\n",
       "        [ 0.6166, -0.4218],\n",
       "        [-0.0098,  0.3307],\n",
       "        ...,\n",
       "        [-0.9362, -0.6437],\n",
       "        [ 0.7253,  1.2191],\n",
       "        [ 1.4107,  1.0741]])"
      ]
     },
     "execution_count": 7,
     "metadata": {},
     "output_type": "execute_result"
    }
   ],
   "source": [
    "f = Z_ScoreNormalization(features)\n",
    "f"
   ]
  },
  {
   "cell_type": "code",
   "execution_count": 8,
   "metadata": {},
   "outputs": [
    {
     "data": {
      "text/plain": [
       "<Axes: >"
      ]
     },
     "execution_count": 8,
     "metadata": {},
     "output_type": "execute_result"
    },
    {
     "data": {
      "text/plain": [
       "<matplotlib.collections.PathCollection at 0x2098b2df760>"
      ]
     },
     "execution_count": 8,
     "metadata": {},
     "output_type": "execute_result"
    },
    {
     "data": {
      "text/plain": [
       "Text(0.5, 1.0, 'features distribition')"
      ]
     },
     "execution_count": 8,
     "metadata": {},
     "output_type": "execute_result"
    },
    {
     "data": {
      "text/plain": [
       "<Axes: >"
      ]
     },
     "execution_count": 8,
     "metadata": {},
     "output_type": "execute_result"
    },
    {
     "data": {
      "text/plain": [
       "<matplotlib.collections.PathCollection at 0x209943c6700>"
      ]
     },
     "execution_count": 8,
     "metadata": {},
     "output_type": "execute_result"
    },
    {
     "data": {
      "text/plain": [
       "Text(0.5, 1.0, 'f distribition')"
      ]
     },
     "execution_count": 8,
     "metadata": {},
     "output_type": "execute_result"
    },
    {
     "data": {
      "image/png": "[encoded data removed]",
      "text/plain": [
       "<Figure size 432x288 with 2 Axes>"
      ]
     },
     "metadata": {
      "needs_background": "light"
     },
     "output_type": "display_data"
    }
   ],
   "source": [
    "plt.subplot(121)\n",
    "plt.scatter(features[:,0], features[:,1], c= labels)\n",
    "plt.title(\"features distribition\")\n",
    "\n",
    "plt.subplot(122)\n",
    "plt.scatter(f[:,0], f[:,1], c= labels)\n",
    "plt.title(\"f distribition\")"
   ]
  },
  {
   "cell_type": "code",
   "execution_count": 9,
   "metadata": {},
   "outputs": [
    {
     "data": {
      "text/plain": [
       "<Axes: >"
      ]
     },
     "execution_count": 9,
     "metadata": {},
     "output_type": "execute_result"
    },
    {
     "data": {
      "text/plain": [
       "<matplotlib.collections.PathCollection at 0x209e9f60df0>"
      ]
     },
     "execution_count": 9,
     "metadata": {},
     "output_type": "execute_result"
    },
    {
     "data": {
      "text/plain": [
       "Text(0.5, 1.0, 'features distribition')"
      ]
     },
     "execution_count": 9,
     "metadata": {},
     "output_type": "execute_result"
    },
    {
     "data": {
      "text/plain": [
       "<Axes: >"
      ]
     },
     "execution_count": 9,
     "metadata": {},
     "output_type": "execute_result"
    },
    {
     "data": {
      "text/plain": [
       "<matplotlib.collections.PathCollection at 0x2098b2867f0>"
      ]
     },
     "execution_count": 9,
     "metadata": {},
     "output_type": "execute_result"
    },
    {
     "data": {
      "text/plain": [
       "Text(0.5, 1.0, 'f distribition')"
      ]
     },
     "execution_count": 9,
     "metadata": {},
     "output_type": "execute_result"
    },
    {
     "data": {
      "image/png": "[encoded data removed]",
      "text/plain": [
       "<Figure size 432x288 with 2 Axes>"
      ]
     },
     "metadata": {
      "needs_background": "light"
     },
     "output_type": "display_data"
    }
   ],
   "source": [
    "plt.subplot(121)\n",
    "plt.scatter(features[:,0], features[:,1], c= labels)\n",
    "plt.title(\"features distribition\")\n",
    "\n",
    "plt.subplot(122)\n",
    "plt.scatter(f[:,0]*10-100, f[:,1]*0.001, c= labels)\n",
    "plt.title(\"f distribition\")"
   ]
  },
  {
   "cell_type": "code",
   "execution_count": 10,
   "metadata": {},
   "outputs": [
    {
     "name": "stdout",
     "output_type": "stream",
     "text": [
      "\u001b[1;31mInit signature:\u001b[0m\n",
      "\u001b[0mnn\u001b[0m\u001b[1;33m.\u001b[0m\u001b[0mBatchNorm1d\u001b[0m\u001b[1;33m(\u001b[0m\u001b[1;33m\n",
      "\u001b[0m    \u001b[0mnum_features\u001b[0m\u001b[1;33m:\u001b[0m \u001b[0mint\u001b[0m\u001b[1;33m,\u001b[0m\u001b[1;33m\n",
      "\u001b[0m    \u001b[0meps\u001b[0m\u001b[1;33m:\u001b[0m \u001b[0mfloat\u001b[0m \u001b[1;33m=\u001b[0m \u001b[1;36m1e-05\u001b[0m\u001b[1;33m,\u001b[0m\u001b[1;33m\n",
      "\u001b[0m    \u001b[0mmomentum\u001b[0m\u001b[1;33m:\u001b[0m \u001b[0mfloat\u001b[0m \u001b[1;33m=\u001b[0m \u001b[1;36m0.1\u001b[0m\u001b[1;33m,\u001b[0m\u001b[1;33m\n",
      "\u001b[0m    \u001b[0maffine\u001b[0m\u001b[1;33m:\u001b[0m \u001b[0mbool\u001b[0m \u001b[1;33m=\u001b[0m \u001b[1;32mTrue\u001b[0m\u001b[1;33m,\u001b[0m\u001b[1;33m\n",
      "\u001b[0m    \u001b[0mtrack_running_stats\u001b[0m\u001b[1;33m:\u001b[0m \u001b[0mbool\u001b[0m \u001b[1;33m=\u001b[0m \u001b[1;32mTrue\u001b[0m\u001b[1;33m,\u001b[0m\u001b[1;33m\n",
      "\u001b[0m    \u001b[0mdevice\u001b[0m\u001b[1;33m=\u001b[0m\u001b[1;32mNone\u001b[0m\u001b[1;33m,\u001b[0m\u001b[1;33m\n",
      "\u001b[0m    \u001b[0mdtype\u001b[0m\u001b[1;33m=\u001b[0m\u001b[1;32mNone\u001b[0m\u001b[1;33m,\u001b[0m\u001b[1;33m\n",
      "\u001b[0m\u001b[1;33m)\u001b[0m \u001b[1;33m->\u001b[0m \u001b[1;32mNone\u001b[0m\u001b[1;33m\u001b[0m\u001b[1;33m\u001b[0m\u001b[0m\n",
      "\u001b[1;31mDocstring:\u001b[0m     \n",
      "Applies Batch Normalization over a 2D or 3D input as described in the paper\n",
      "`Batch Normalization: Accelerating Deep Network Training by Reducing\n",
      "Internal Covariate Shift <https://arxiv.org/abs/1502.03167>`__ .\n",
      "\n",
      ".. math::\n",
      "\n",
      "    y = \\frac{x - \\mathrm{E}[x]}{\\sqrt{\\mathrm{Var}[x] + \\epsilon}} * \\gamma + \\beta\n",
      "\n",
      "The mean and standard-deviation are calculated per-dimension over\n",
      "the mini-batches and :math:`\\gamma` and :math:`\\beta` are learnable parameter vectors\n",
      "of size `C` (where `C` is the number of features or channels of the input). By default, the\n",
      "elements of :math:`\\gamma` are set to 1 and the elements of :math:`\\beta` are set to 0. The\n",
      "standard-deviation is calculated via the biased estimator, equivalent to `torch.var(input, unbiased=False)`.\n",
      "\n",
      "Also by default, during training this layer keeps running estimates of its\n",
      "computed mean and variance, which are then used for normalization during\n",
      "evaluation. The running estimates are kept with a default :attr:`momentum`\n",
      "of 0.1.\n",
      "\n",
      "If :attr:`track_running_stats` is set to ``False``, this layer then does not\n",
      "keep running estimates, and batch statistics are instead used during\n",
      "evaluation time as well.\n",
      "\n",
      ".. note::\n",
      "    This :attr:`momentum` argument is different from one used in optimizer\n",
      "    classes and the conventional notion of momentum. Mathematically, the\n",
      "    update rule for running statistics here is\n",
      "    :math:`\\hat{x}_\\text{new} = (1 - \\text{momentum}) \\times \\hat{x} + \\text{momentum} \\times x_t`,\n",
      "    where :math:`\\hat{x}` is the estimated statistic and :math:`x_t` is the\n",
      "    new observed value.\n",
      "\n",
      "Because the Batch Normalization is done over the `C` dimension, computing statistics\n",
      "on `(N, L)` slices, it's common terminology to call this Temporal Batch Normalization.\n",
      "\n",
      "Args:\n",
      "    num_features: number of features or channels :math:`C` of the input\n",
      "    eps: a value added to the denominator for numerical stability.\n",
      "        Default: 1e-5\n",
      "    momentum: the value used for the running_mean and running_var\n",
      "        computation. Can be set to ``None`` for cumulative moving average\n",
      "        (i.e. simple average). Default: 0.1\n",
      "    affine: a boolean value that when set to ``True``, this module has\n",
      "        learnable affine parameters. Default: ``True``\n",
      "    track_running_stats: a boolean value that when set to ``True``, this\n",
      "        module tracks the running mean and variance, and when set to ``False``,\n",
      "        this module does not track such statistics, and initializes statistics\n",
      "        buffers :attr:`running_mean` and :attr:`running_var` as ``None``.\n",
      "        When these buffers are ``None``, this module always uses batch statistics.\n",
      "        in both training and eval modes. Default: ``True``\n",
      "\n",
      "Shape:\n",
      "    - Input: :math:`(N, C)` or :math:`(N, C, L)`, where :math:`N` is the batch size,\n",
      "      :math:`C` is the number of features or channels, and :math:`L` is the sequence length\n",
      "    - Output: :math:`(N, C)` or :math:`(N, C, L)` (same shape as input)\n",
      "\n",
      "Examples::\n",
      "\n",
      "    >>> # With Learnable Parameters\n",
      "    >>> m = nn.BatchNorm1d(100)\n",
      "    >>> # Without Learnable Parameters\n",
      "    >>> m = nn.BatchNorm1d(100, affine=False)\n",
      "    >>> input = torch.randn(20, 100)\n",
      "    >>> output = m(input)\n",
      "\u001b[1;31mInit docstring:\u001b[0m Initializes internal Module state, shared by both nn.Module and ScriptModule.\n",
      "\u001b[1;31mFile:\u001b[0m           c:\\users\\23197\\.conda\\envs\\torch\\lib\\site-packages\\torch\\nn\\modules\\batchnorm.py\n",
      "\u001b[1;31mType:\u001b[0m           type\n",
      "\u001b[1;31mSubclasses:\u001b[0m     \n"
     ]
    }
   ],
   "source": [
    "nn.BatchNorm1d?"
   ]
  },
  {
   "cell_type": "code",
   "execution_count": 11,
   "metadata": {},
   "outputs": [
    {
     "data": {
      "text/plain": [
       "tensor([[0., 1., 2.],\n",
       "        [3., 4., 5.],\n",
       "        [6., 7., 8.]])"
      ]
     },
     "execution_count": 11,
     "metadata": {},
     "output_type": "execute_result"
    }
   ],
   "source": [
    "a =  torch.arange(9).reshape(3,3).float()\n",
    "a"
   ]
  },
  {
   "cell_type": "code",
   "execution_count": 12,
   "metadata": {},
   "outputs": [],
   "source": [
    "bn1 = nn.BatchNorm1d(3)"
   ]
  },
  {
   "cell_type": "code",
   "execution_count": 13,
   "metadata": {},
   "outputs": [
    {
     "data": {
      "text/plain": [
       "tensor([[-1.2247, -1.2247, -1.2247],\n",
       "        [ 0.0000,  0.0000,  0.0000],\n",
       "        [ 1.2247,  1.2247,  1.2247]], grad_fn=<NativeBatchNormBackward0>)"
      ]
     },
     "execution_count": 13,
     "metadata": {},
     "output_type": "execute_result"
    }
   ],
   "source": [
    "bn1(a)"
   ]
  },
  {
   "cell_type": "code",
   "execution_count": 14,
   "metadata": {},
   "outputs": [
    {
     "data": {
      "text/plain": [
       "tensor([3., 4., 5.])"
      ]
     },
     "execution_count": 14,
     "metadata": {},
     "output_type": "execute_result"
    }
   ],
   "source": [
    "torch.mean(a,0)"
   ]
  },
  {
   "cell_type": "code",
   "execution_count": 15,
   "metadata": {},
   "outputs": [
    {
     "data": {
      "text/plain": [
       "tensor([[-1., -1., -1.],\n",
       "        [ 0.,  0.,  0.],\n",
       "        [ 1.,  1.,  1.]])"
      ]
     },
     "execution_count": 15,
     "metadata": {},
     "output_type": "execute_result"
    }
   ],
   "source": [
    "#z-sccore 结果\n",
    "(a - torch.mean(a,0)) / torch.sqrt(torch.var(a,0))\n"
   ]
  },
  {
   "cell_type": "code",
   "execution_count": 16,
   "metadata": {},
   "outputs": [
    {
     "data": {
      "text/plain": [
       "tensor([[-1.2247, -1.2247, -1.2247],\n",
       "        [ 0.0000,  0.0000,  0.0000],\n",
       "        [ 1.2247,  1.2247,  1.2247]])"
      ]
     },
     "execution_count": 16,
     "metadata": {},
     "output_type": "execute_result"
    }
   ],
   "source": [
    "(a - torch.mean(a,0)) / torch.sqrt(torch.var(a,0,unbiased=False))"
   ]
  },
  {
   "cell_type": "code",
   "execution_count": 17,
   "metadata": {},
   "outputs": [
    {
     "data": {
      "text/plain": [
       "<generator object Module.parameters at 0x0000020994539430>"
      ]
     },
     "execution_count": 17,
     "metadata": {},
     "output_type": "execute_result"
    }
   ],
   "source": [
    "bn1.parameters()"
   ]
  },
  {
   "cell_type": "code",
   "execution_count": 18,
   "metadata": {},
   "outputs": [
    {
     "data": {
      "text/plain": [
       "[Parameter containing:\n",
       " tensor([1., 1., 1.], requires_grad=True),\n",
       " Parameter containing:\n",
       " tensor([0., 0., 0.], requires_grad=True)]"
      ]
     },
     "execution_count": 18,
     "metadata": {},
     "output_type": "execute_result"
    }
   ],
   "source": [
    "list(bn1.parameters())"
   ]
  },
  {
   "attachments": {},
   "cell_type": "markdown",
   "metadata": {},
   "source": [
    "复杂回归模型的测试"
   ]
  },
  {
   "cell_type": "code",
   "execution_count": 19,
   "metadata": {},
   "outputs": [
    {
     "data": {
      "text/plain": [
       "<torch._C.Generator at 0x209e2438d90>"
      ]
     },
     "execution_count": 19,
     "metadata": {},
     "output_type": "execute_result"
    }
   ],
   "source": [
    "# 设置随机数种子\n",
    "torch.manual_seed(420)  \n",
    "\n",
    "# 创建最高项为2的多项式回归数据集\n",
    "features, labels = tensorGenReg(w=[2, -1, 3, 1, 2], bias=False, deg=2)\n",
    "\n",
    "# 进行数据集切分与加载\n",
    "train_loader, test_loader = split_loader(features, labels, batch_size=50)"
   ]
  },
  {
   "cell_type": "code",
   "execution_count": 20,
   "metadata": {},
   "outputs": [
    {
     "data": {
      "text/plain": [
       "<torch._C.Generator at 0x209e2438d90>"
      ]
     },
     "execution_count": 20,
     "metadata": {},
     "output_type": "execute_result"
    },
    {
     "data": {
      "text/plain": [
       "<torch._C.Generator at 0x209e2438d90>"
      ]
     },
     "execution_count": 20,
     "metadata": {},
     "output_type": "execute_result"
    },
    {
     "data": {
      "text/plain": [
       "<torch._C.Generator at 0x209e2438d90>"
      ]
     },
     "execution_count": 20,
     "metadata": {},
     "output_type": "execute_result"
    },
    {
     "data": {
      "text/plain": [
       "<torch._C.Generator at 0x209e2438d90>"
      ]
     },
     "execution_count": 20,
     "metadata": {},
     "output_type": "execute_result"
    }
   ],
   "source": [
    "# class1对比模型\n",
    "# 设置随机数种子\n",
    "torch.manual_seed(24)  \n",
    "\n",
    "# 实例化模型  \n",
    "sigmoid_model1 = net_class1(act_fun= torch.sigmoid, in_features=5)\n",
    "sigmoid_model1_norm = net_class1(act_fun= torch.sigmoid, in_features=5, BN_model='pre')\n",
    "\n",
    "# 创建模型容器\n",
    "model_ls1 = [sigmoid_model1, sigmoid_model1_norm]           \n",
    "name_ls1 = ['sigmoid_model1', 'sigmoid_model1_norm']\n",
    "\n",
    "# 核心参数\n",
    "lr = 0.03\n",
    "num_epochs = 40\n",
    "\n",
    "# 模型训练\n",
    "train_ls1, test_ls1 = model_comparison(model_l = model_ls1, \n",
    "                                       name_l = name_ls1, \n",
    "                                       train_data = train_loader,\n",
    "                                       test_data = test_loader,\n",
    "                                       num_epochs = num_epochs, \n",
    "                                       criterion = nn.MSELoss(), \n",
    "                                       optimizer = optim.SGD, \n",
    "                                       lr = lr, \n",
    "                                       cla = False, \n",
    "                                       eva = mse_cal)\n",
    "\n",
    "\n",
    "# class2对比模型\n",
    "# 设置随机数种子\n",
    "torch.manual_seed(24)  \n",
    "\n",
    "# 实例化模型  \n",
    "sigmoid_model2 = net_class2(act_fun= torch.sigmoid, in_features=5)\n",
    "sigmoid_model2_norm = net_class2(act_fun= torch.sigmoid, in_features=5, BN_model='pre')\n",
    "\n",
    "# 创建模型容器\n",
    "model_ls2 = [sigmoid_model2, sigmoid_model2_norm]           \n",
    "name_ls2 = ['sigmoid_model2', 'sigmoid_model2_norm']\n",
    "\n",
    "# 核心参数\n",
    "lr = 0.03\n",
    "num_epochs = 40\n",
    "\n",
    "# 模型训练\n",
    "train_ls2, test_ls2 = model_comparison(model_l = model_ls2, \n",
    "                                       name_l = name_ls2, \n",
    "                                       train_data = train_loader,\n",
    "                                       test_data = test_loader,\n",
    "                                       num_epochs = num_epochs, \n",
    "                                       criterion = nn.MSELoss(), \n",
    "                                       optimizer = optim.SGD, \n",
    "                                       lr = lr, \n",
    "                                       cla = False, \n",
    "                                       eva = mse_cal)\n",
    "\n",
    "# class3对比模型\n",
    "# 设置随机数种子\n",
    "torch.manual_seed(24)  \n",
    "\n",
    "# 实例化模型  \n",
    "sigmoid_model3 = net_class3(act_fun= torch.sigmoid, in_features=5)\n",
    "sigmoid_model3_norm = net_class3(act_fun= torch.sigmoid, in_features=5, BN_model='pre')\n",
    "\n",
    "# 创建模型容器\n",
    "model_ls3 = [sigmoid_model3, sigmoid_model3_norm]           \n",
    "name_ls3 = ['sigmoid_model3', 'sigmoid_model3_norm']\n",
    "\n",
    "# 核心参数\n",
    "lr = 0.03\n",
    "num_epochs = 40\n",
    "\n",
    "# 模型训练\n",
    "train_ls3, test_ls3 = model_comparison(model_l = model_ls3, \n",
    "                                       name_l = name_ls3, \n",
    "                                       train_data = train_loader,\n",
    "                                       test_data = test_loader,\n",
    "                                       num_epochs = num_epochs, \n",
    "                                       criterion = nn.MSELoss(), \n",
    "                                       optimizer = optim.SGD, \n",
    "                                       lr = lr, \n",
    "                                       cla = False, \n",
    "                                       eva = mse_cal)\n",
    "\n",
    "# class4对比模型\n",
    "# 设置随机数种子\n",
    "torch.manual_seed(24)  \n",
    "\n",
    "# 实例化模型  \n",
    "sigmoid_model4 = net_class4(act_fun= torch.sigmoid, in_features=5)\n",
    "sigmoid_model4_norm = net_class4(act_fun= torch.sigmoid, in_features=5, BN_model='pre')\n",
    "\n",
    "# 创建模型容器\n",
    "model_ls4 = [sigmoid_model4, sigmoid_model4_norm]           \n",
    "name_ls4 = ['sigmoid_model4', 'sigmoid_model4_norm']\n",
    "\n",
    "# 核心参数\n",
    "lr = 0.03\n",
    "num_epochs = 40\n",
    "\n",
    "# 模型训练\n",
    "train_ls4, test_ls4 = model_comparison(model_l = model_ls4, \n",
    "                                       name_l = name_ls4, \n",
    "                                       train_data = train_loader,\n",
    "                                       test_data = test_loader,\n",
    "                                       num_epochs = num_epochs, \n",
    "                                       criterion = nn.MSELoss(), \n",
    "                                       optimizer = optim.SGD, \n",
    "                                       lr = lr, \n",
    "                                       cla = False, \n",
    "                                       eva = mse_cal)"
   ]
  },
  {
   "cell_type": "code",
   "execution_count": 25,
   "metadata": {},
   "outputs": [
    {
     "data": {
      "text/plain": [
       "tensor([[80.5502, 34.1971, 33.5645, 33.2907, 32.6397, 31.3443, 29.8018, 28.1430,\n",
       "         25.4010, 22.1455, 19.8575, 18.4219, 17.4862, 16.5241, 14.1358, 13.1555,\n",
       "         12.9441, 12.2160, 11.7999, 11.5635, 12.0217, 11.3075, 11.0661, 11.2863,\n",
       "         11.1823, 11.1630, 11.1956, 10.9286, 10.7991, 10.8258, 10.4288, 11.2994,\n",
       "         11.2720, 10.9139, 10.8790, 11.2046, 10.8178, 11.9764, 11.0157, 10.5759],\n",
       "        [95.3238, 34.9301, 33.7650, 33.4742, 32.9228, 31.7470, 30.0618, 27.4829,\n",
       "         24.1253, 21.3179, 17.6308, 15.4312, 14.3014, 13.7056, 13.1577, 12.9580,\n",
       "         12.3581, 12.2607, 12.1037, 12.0079, 11.5249, 12.0209, 12.0499, 11.3071,\n",
       "         11.2258, 11.1303, 11.3779, 11.0031, 11.0466, 11.9385, 10.9747, 10.8869,\n",
       "         10.5348, 10.6475, 10.7875, 10.4138, 10.6968, 10.5816, 10.9196, 10.8231]])"
      ]
     },
     "execution_count": 25,
     "metadata": {},
     "output_type": "execute_result"
    }
   ],
   "source": [
    "train_ls1"
   ]
  },
  {
   "cell_type": "code",
   "execution_count": 24,
   "metadata": {},
   "outputs": [
    {
     "data": {
      "text/plain": [
       "(<Figure size 720x720 with 4 Axes>,\n",
       " array([[<Axes: >, <Axes: >],\n",
       "        [<Axes: >, <Axes: >]], dtype=object))"
      ]
     },
     "execution_count": 24,
     "metadata": {},
     "output_type": "execute_result"
    },
    {
     "data": {
      "text/plain": [
       "<Axes: >"
      ]
     },
     "execution_count": 24,
     "metadata": {},
     "output_type": "execute_result"
    },
    {
     "data": {
      "text/plain": [
       "[<matplotlib.lines.Line2D at 0x20995b57250>]"
      ]
     },
     "execution_count": 24,
     "metadata": {},
     "output_type": "execute_result"
    },
    {
     "data": {
      "text/plain": [
       "[<matplotlib.lines.Line2D at 0x20995c08e80>]"
      ]
     },
     "execution_count": 24,
     "metadata": {},
     "output_type": "execute_result"
    },
    {
     "data": {
      "text/plain": [
       "<matplotlib.legend.Legend at 0x20995c08c70>"
      ]
     },
     "execution_count": 24,
     "metadata": {},
     "output_type": "execute_result"
    },
    {
     "data": {
      "text/plain": [
       "Text(0.5, 1.0, 'mse_train_ls1')"
      ]
     },
     "execution_count": 24,
     "metadata": {},
     "output_type": "execute_result"
    },
    {
     "data": {
      "text/plain": [
       "<Axes: >"
      ]
     },
     "execution_count": 24,
     "metadata": {},
     "output_type": "execute_result"
    },
    {
     "data": {
      "text/plain": [
       "[<matplotlib.lines.Line2D at 0x20995b635b0>]"
      ]
     },
     "execution_count": 24,
     "metadata": {},
     "output_type": "execute_result"
    },
    {
     "data": {
      "text/plain": [
       "[<matplotlib.lines.Line2D at 0x20995bfcbe0>]"
      ]
     },
     "execution_count": 24,
     "metadata": {},
     "output_type": "execute_result"
    },
    {
     "data": {
      "text/plain": [
       "<matplotlib.legend.Legend at 0x20994990c10>"
      ]
     },
     "execution_count": 24,
     "metadata": {},
     "output_type": "execute_result"
    },
    {
     "data": {
      "text/plain": [
       "Text(0.5, 1.0, 'mse_train_ls2')"
      ]
     },
     "execution_count": 24,
     "metadata": {},
     "output_type": "execute_result"
    },
    {
     "data": {
      "text/plain": [
       "<Axes: >"
      ]
     },
     "execution_count": 24,
     "metadata": {},
     "output_type": "execute_result"
    },
    {
     "data": {
      "text/plain": [
       "[<matplotlib.lines.Line2D at 0x20995b878b0>]"
      ]
     },
     "execution_count": 24,
     "metadata": {},
     "output_type": "execute_result"
    },
    {
     "data": {
      "text/plain": [
       "[<matplotlib.lines.Line2D at 0x20995c29c10>]"
      ]
     },
     "execution_count": 24,
     "metadata": {},
     "output_type": "execute_result"
    },
    {
     "data": {
      "text/plain": [
       "<matplotlib.legend.Legend at 0x20995c08df0>"
      ]
     },
     "execution_count": 24,
     "metadata": {},
     "output_type": "execute_result"
    },
    {
     "data": {
      "text/plain": [
       "Text(0.5, 1.0, 'mse_train_ls3')"
      ]
     },
     "execution_count": 24,
     "metadata": {},
     "output_type": "execute_result"
    },
    {
     "data": {
      "text/plain": [
       "<Axes: >"
      ]
     },
     "execution_count": 24,
     "metadata": {},
     "output_type": "execute_result"
    },
    {
     "data": {
      "text/plain": [
       "[<matplotlib.lines.Line2D at 0x20995c37f10>]"
      ]
     },
     "execution_count": 24,
     "metadata": {},
     "output_type": "execute_result"
    },
    {
     "data": {
      "text/plain": [
       "[<matplotlib.lines.Line2D at 0x20995c37fa0>]"
      ]
     },
     "execution_count": 24,
     "metadata": {},
     "output_type": "execute_result"
    },
    {
     "data": {
      "text/plain": [
       "<matplotlib.legend.Legend at 0x20995c37370>"
      ]
     },
     "execution_count": 24,
     "metadata": {},
     "output_type": "execute_result"
    },
    {
     "data": {
      "text/plain": [
       "Text(0.5, 1.0, 'mse_train_ls4')"
      ]
     },
     "execution_count": 24,
     "metadata": {},
     "output_type": "execute_result"
    },
    {
     "data": {
      "image/png": "[encoded data removed]",
      "text/plain": [
       "<Figure size 720x720 with 4 Axes>"
      ]
     },
     "metadata": {
      "needs_background": "light"
     },
     "output_type": "display_data"
    }
   ],
   "source": [
    "# 训练误差\n",
    "plt.subplots(nrows = 2, ncols = 2, figsize = ( 10, 10))\n",
    "plt.subplots_adjust(hspace= 0.5, wspace= 0.5)\n",
    "plt.subplot(221)\n",
    "for i, name in enumerate(name_ls1):\n",
    "    plt.plot(list(range(num_epochs)), train_ls1[i], label=name)\n",
    "plt.legend(loc = 1)\n",
    "plt.title('mse_train_ls1')\n",
    "\n",
    "plt.subplot(222)\n",
    "for i, name in enumerate(name_ls2):\n",
    "    plt.plot(list(range(num_epochs)), train_ls2[i], label=name)\n",
    "plt.legend(loc = 1)\n",
    "plt.title('mse_train_ls2')\n",
    "\n",
    "plt.subplot(223)\n",
    "for i, name in enumerate(name_ls3):\n",
    "    plt.plot(list(range(num_epochs)), train_ls3[i], label=name)\n",
    "plt.legend(loc = 1)\n",
    "plt.title('mse_train_ls3')\n",
    "\n",
    "plt.subplot(224)\n",
    "for i, name in enumerate(name_ls4):\n",
    "    plt.plot(list(range(num_epochs)), train_ls4[i], label=name)\n",
    "plt.legend(loc = 1)\n",
    "plt.title('mse_train_ls4')"
   ]
  },
  {
   "cell_type": "code",
   "execution_count": 26,
   "metadata": {},
   "outputs": [
    {
     "data": {
      "text/plain": [
       "[<matplotlib.lines.Line2D at 0x209946d5e80>]"
      ]
     },
     "execution_count": 26,
     "metadata": {},
     "output_type": "execute_result"
    },
    {
     "data": {
      "text/plain": [
       "[<matplotlib.lines.Line2D at 0x20995f25790>]"
      ]
     },
     "execution_count": 26,
     "metadata": {},
     "output_type": "execute_result"
    },
    {
     "data": {
      "text/plain": [
       "[<matplotlib.lines.Line2D at 0x20995c7b610>]"
      ]
     },
     "execution_count": 26,
     "metadata": {},
     "output_type": "execute_result"
    },
    {
     "data": {
      "text/plain": [
       "[<matplotlib.lines.Line2D at 0x20995c7b820>]"
      ]
     },
     "execution_count": 26,
     "metadata": {},
     "output_type": "execute_result"
    },
    {
     "data": {
      "text/plain": [
       "<matplotlib.legend.Legend at 0x20995ef8c10>"
      ]
     },
     "execution_count": 26,
     "metadata": {},
     "output_type": "execute_result"
    },
    {
     "data": {
      "text/plain": [
       "Text(0.5, 1.0, 'mse_test')"
      ]
     },
     "execution_count": 26,
     "metadata": {},
     "output_type": "execute_result"
    },
    {
     "data": {
      "image/png": "[encoded data removed]",
      "text/plain": [
       "<Figure size 432x288 with 1 Axes>"
      ]
     },
     "metadata": {
      "needs_background": "light"
     },
     "output_type": "display_data"
    }
   ],
   "source": [
    "for i, name in enumerate(name_ls1):\n",
    "    plt.plot(list(range(num_epochs)), test_ls1[i], label=name)\n",
    "for i, name in enumerate(name_ls2):\n",
    "    plt.plot(list(range(num_epochs)), test_ls2[i], label=name)\n",
    "plt.legend(loc = 1)\n",
    "plt.title('mse_test')"
   ]
  },
  {
   "cell_type": "code",
   "execution_count": 27,
   "metadata": {},
   "outputs": [
    {
     "data": {
      "text/plain": [
       "<torch._C.Generator at 0x209e2438d90>"
      ]
     },
     "execution_count": 27,
     "metadata": {},
     "output_type": "execute_result"
    }
   ],
   "source": [
    "# 设置随机数种子\n",
    "torch.manual_seed(24)  \n",
    "\n",
    "# 实例化模型  \n",
    "tanh_model2 = net_class2(act_fun= torch.tanh, in_features=5)\n",
    "tanh_model2_norm = net_class2(act_fun= torch.tanh, in_features=5, BN_model='pre')\n",
    "     \n",
    "# 创建模型容器\n",
    "model_l = [tanh_model2, tanh_model2_norm]           \n",
    "name_l = ['tanh_model2', 'tanh_model2_norm']\n",
    "\n",
    "# 核心参数\n",
    "lr = 0.03\n",
    "num_epochs = 40\n",
    "\n",
    "# 模型训练\n",
    "train_lh, test_lh = model_comparison(model_l = model_l, \n",
    "                                     name_l = name_l, \n",
    "                                     train_data = train_loader,\n",
    "                                     test_data = test_loader,\n",
    "                                     num_epochs = num_epochs, \n",
    "                                     criterion = nn.MSELoss(), \n",
    "                                     optimizer = optim.SGD, \n",
    "                                     lr = lr, \n",
    "                                     cla = False, \n",
    "                                     eva = mse_cal)"
   ]
  },
  {
   "cell_type": "code",
   "execution_count": 28,
   "metadata": {},
   "outputs": [
    {
     "data": {
      "text/plain": [
       "[<matplotlib.lines.Line2D at 0x20995ccd310>]"
      ]
     },
     "execution_count": 28,
     "metadata": {},
     "output_type": "execute_result"
    },
    {
     "data": {
      "text/plain": [
       "[<matplotlib.lines.Line2D at 0x20995d86760>]"
      ]
     },
     "execution_count": 28,
     "metadata": {},
     "output_type": "execute_result"
    },
    {
     "data": {
      "text/plain": [
       "<matplotlib.legend.Legend at 0x20995ccdb20>"
      ]
     },
     "execution_count": 28,
     "metadata": {},
     "output_type": "execute_result"
    },
    {
     "data": {
      "text/plain": [
       "Text(0.5, 1.0, 'mse_train')"
      ]
     },
     "execution_count": 28,
     "metadata": {},
     "output_type": "execute_result"
    },
    {
     "data": {
      "image/png": "[encoded data removed]",
      "text/plain": [
       "<Figure size 432x288 with 1 Axes>"
      ]
     },
     "metadata": {
      "needs_background": "light"
     },
     "output_type": "display_data"
    }
   ],
   "source": [
    "# 训练误差\n",
    "for i, name in enumerate(name_l):\n",
    "    plt.plot(list(range(num_epochs)), train_lh[i], label=name)\n",
    "plt.legend(loc = 1)\n",
    "plt.title('mse_train')"
   ]
  },
  {
   "cell_type": "code",
   "execution_count": 29,
   "metadata": {},
   "outputs": [
    {
     "data": {
      "text/plain": [
       "[<matplotlib.lines.Line2D at 0x20995db5340>]"
      ]
     },
     "execution_count": 29,
     "metadata": {},
     "output_type": "execute_result"
    },
    {
     "data": {
      "text/plain": [
       "[<matplotlib.lines.Line2D at 0x20995e27460>]"
      ]
     },
     "execution_count": 29,
     "metadata": {},
     "output_type": "execute_result"
    },
    {
     "data": {
      "text/plain": [
       "<matplotlib.legend.Legend at 0x20995c994c0>"
      ]
     },
     "execution_count": 29,
     "metadata": {},
     "output_type": "execute_result"
    },
    {
     "data": {
      "text/plain": [
       "Text(0.5, 1.0, 'mse_test')"
      ]
     },
     "execution_count": 29,
     "metadata": {},
     "output_type": "execute_result"
    },
    {
     "data": {
      "image/png": "[encoded data removed]",
      "text/plain": [
       "<Figure size 432x288 with 1 Axes>"
      ]
     },
     "metadata": {
      "needs_background": "light"
     },
     "output_type": "display_data"
    }
   ],
   "source": [
    "# 测试误差\n",
    "for i, name in enumerate(name_l):\n",
    "    plt.plot(list(range(num_epochs)), test_lh[i], label=name)\n",
    "plt.legend(loc = 1)\n",
    "plt.title('mse_test')"
   ]
  },
  {
   "attachments": {},
   "cell_type": "markdown",
   "metadata": {},
   "source": [
    "learning rate的优化"
   ]
  },
  {
   "cell_type": "code",
   "execution_count": 30,
   "metadata": {},
   "outputs": [
    {
     "data": {
      "text/plain": [
       "<torch._C.Generator at 0x209e2438d90>"
      ]
     },
     "execution_count": 30,
     "metadata": {},
     "output_type": "execute_result"
    },
    {
     "data": {
      "text/plain": [
       "<torch._C.Generator at 0x209e2438d90>"
      ]
     },
     "execution_count": 30,
     "metadata": {},
     "output_type": "execute_result"
    },
    {
     "data": {
      "text/plain": [
       "<torch._C.Generator at 0x209e2438d90>"
      ]
     },
     "execution_count": 30,
     "metadata": {},
     "output_type": "execute_result"
    },
    {
     "data": {
      "text/plain": [
       "<torch._C.Generator at 0x209e2438d90>"
      ]
     },
     "execution_count": 30,
     "metadata": {},
     "output_type": "execute_result"
    }
   ],
   "source": [
    "# 0.1学习率\n",
    "# 创建随机数种子\n",
    "torch.manual_seed(24)  \n",
    "\n",
    "# 实例化模型   \n",
    "tanh_model3 = net_class3(act_fun=torch.tanh, in_features=5)                          \n",
    "tanh_model3_norm = net_class3(act_fun=torch.tanh, in_features=5, BN_model='pre') \n",
    "tanh_model4 = net_class4(act_fun=torch.tanh, in_features=5)                          \n",
    "tanh_model4_norm = net_class4(act_fun=torch.tanh, in_features=5, BN_model='pre')    \n",
    "        \n",
    "# 创建模型容器\n",
    "model_l = [tanh_model3, tanh_model3_norm, tanh_model4, tanh_model4_norm]           \n",
    "name_l = ['tanh_model3', 'tanh_model3_norm', 'tanh_model4', 'tanh_model4_norm']\n",
    "\n",
    "# 核心参数\n",
    "num_epochs = 40\n",
    "lr = 0.1\n",
    "\n",
    "# 模型训练\n",
    "train_l1, test_l1 = model_comparison(model_l = model_l, \n",
    "                                     name_l = name_l, \n",
    "                                     train_data = train_loader,\n",
    "                                     test_data = test_loader,\n",
    "                                     num_epochs = num_epochs, \n",
    "                                     criterion = nn.MSELoss(), \n",
    "                                     optimizer = optim.SGD, \n",
    "                                     lr = lr, \n",
    "                                     cla = False, \n",
    "                                     eva = mse_cal)\n",
    "\n",
    "\n",
    "# 0.03学习率\n",
    "# 创建随机数种子\n",
    "torch.manual_seed(24)  \n",
    "\n",
    "# 实例化模型   \n",
    "tanh_model3 = net_class3(act_fun=torch.tanh, in_features=5)                          \n",
    "tanh_model3_norm = net_class3(act_fun=torch.tanh, in_features=5, BN_model='pre') \n",
    "tanh_model4 = net_class4(act_fun=torch.tanh, in_features=5)                          \n",
    "tanh_model4_norm = net_class4(act_fun=torch.tanh, in_features=5, BN_model='pre')    \n",
    "        \n",
    "# 创建模型容器\n",
    "model_l = [tanh_model3, tanh_model3_norm, tanh_model4, tanh_model4_norm]           \n",
    "name_l = ['tanh_model3', 'tanh_model3_norm', 'tanh_model4', 'tanh_model4_norm']\n",
    "\n",
    "# 核心参数\n",
    "num_epochs = 40\n",
    "lr = 0.03\n",
    "\n",
    "# 模型训练\n",
    "train_l03, test_l03 = model_comparison(model_l = model_l, \n",
    "                                       name_l = name_l, \n",
    "                                       train_data = train_loader,\n",
    "                                       test_data = test_loader,\n",
    "                                       num_epochs = num_epochs, \n",
    "                                       criterion = nn.MSELoss(), \n",
    "                                       optimizer = optim.SGD, \n",
    "                                       lr = lr, \n",
    "                                       cla = False, \n",
    "                                       eva = mse_cal)\n",
    "\n",
    "\n",
    "# 0.01学习率\n",
    "# 创建随机数种子\n",
    "torch.manual_seed(24)  \n",
    "\n",
    "# 实例化模型   \n",
    "tanh_model3 = net_class3(act_fun=torch.tanh, in_features=5)                          \n",
    "tanh_model3_norm = net_class3(act_fun=torch.tanh, in_features=5, BN_model='pre') \n",
    "tanh_model4 = net_class4(act_fun=torch.tanh, in_features=5)                          \n",
    "tanh_model4_norm = net_class4(act_fun=torch.tanh, in_features=5, BN_model='pre')    \n",
    "        \n",
    "# 创建模型容器\n",
    "model_l = [tanh_model3, tanh_model3_norm, tanh_model4, tanh_model4_norm]           \n",
    "name_l = ['tanh_model3', 'tanh_model3_norm', 'tanh_model4', 'tanh_model4_norm']\n",
    "\n",
    "# 核心参数\n",
    "num_epochs = 40\n",
    "lr = 0.01\n",
    "\n",
    "# 模型训练\n",
    "train_l01, test_l01 = model_comparison(model_l = model_l, \n",
    "                                       name_l = name_l, \n",
    "                                       train_data = train_loader,\n",
    "                                       test_data = test_loader,\n",
    "                                       num_epochs = num_epochs, \n",
    "                                       criterion = nn.MSELoss(), \n",
    "                                       optimizer = optim.SGD, \n",
    "                                       lr = lr, \n",
    "                                       cla = False, \n",
    "                                       eva = mse_cal)\n",
    "\n",
    "# 0.005学习率\n",
    "# 创建随机数种子\n",
    "torch.manual_seed(24)  \n",
    "\n",
    "# 实例化模型   \n",
    "tanh_model3 = net_class3(act_fun=torch.tanh, in_features=5)                          \n",
    "tanh_model3_norm = net_class3(act_fun=torch.tanh, in_features=5, BN_model='pre') \n",
    "tanh_model4 = net_class4(act_fun=torch.tanh, in_features=5)                          \n",
    "tanh_model4_norm = net_class4(act_fun=torch.tanh, in_features=5, BN_model='pre')    \n",
    "        \n",
    "# 创建模型容器\n",
    "model_l = [tanh_model3, tanh_model3_norm, tanh_model4, tanh_model4_norm]           \n",
    "name_l = ['tanh_model3', 'tanh_model3_norm', 'tanh_model4', 'tanh_model4_norm']\n",
    "\n",
    "# 核心参数\n",
    "num_epochs = 40\n",
    "lr = 0.005\n",
    "\n",
    "# 模型训练\n",
    "train_l005, test_l005 = model_comparison(model_l = model_l, \n",
    "                                         name_l = name_l, \n",
    "                                         train_data = train_loader,\n",
    "                                         test_data = test_loader,\n",
    "                                         num_epochs = num_epochs, \n",
    "                                         criterion = nn.MSELoss(), \n",
    "                                         optimizer = optim.SGD, \n",
    "                                         lr = lr, \n",
    "                                         cla = False, \n",
    "                                         eva = mse_cal)"
   ]
  },
  {
   "cell_type": "code",
   "execution_count": 33,
   "metadata": {},
   "outputs": [
    {
     "data": {
      "text/plain": [
       "(<Figure size 720x720 with 4 Axes>,\n",
       " array([[<Axes: >, <Axes: >],\n",
       "        [<Axes: >, <Axes: >]], dtype=object))"
      ]
     },
     "execution_count": 33,
     "metadata": {},
     "output_type": "execute_result"
    },
    {
     "data": {
      "text/plain": [
       "<Axes: >"
      ]
     },
     "execution_count": 33,
     "metadata": {},
     "output_type": "execute_result"
    },
    {
     "data": {
      "text/plain": [
       "[<matplotlib.lines.Line2D at 0x20996368e20>]"
      ]
     },
     "execution_count": 33,
     "metadata": {},
     "output_type": "execute_result"
    },
    {
     "data": {
      "text/plain": [
       "[<matplotlib.lines.Line2D at 0x2099638ec70>]"
      ]
     },
     "execution_count": 33,
     "metadata": {},
     "output_type": "execute_result"
    },
    {
     "data": {
      "text/plain": [
       "[<matplotlib.lines.Line2D at 0x2099638ef10>]"
      ]
     },
     "execution_count": 33,
     "metadata": {},
     "output_type": "execute_result"
    },
    {
     "data": {
      "text/plain": [
       "[<matplotlib.lines.Line2D at 0x2099638ef70>]"
      ]
     },
     "execution_count": 33,
     "metadata": {},
     "output_type": "execute_result"
    },
    {
     "data": {
      "text/plain": [
       "<Axes: >"
      ]
     },
     "execution_count": 33,
     "metadata": {},
     "output_type": "execute_result"
    },
    {
     "data": {
      "text/plain": [
       "[<matplotlib.lines.Line2D at 0x2099638e7c0>]"
      ]
     },
     "execution_count": 33,
     "metadata": {},
     "output_type": "execute_result"
    },
    {
     "data": {
      "text/plain": [
       "[<matplotlib.lines.Line2D at 0x209963a76d0>]"
      ]
     },
     "execution_count": 33,
     "metadata": {},
     "output_type": "execute_result"
    },
    {
     "data": {
      "text/plain": [
       "[<matplotlib.lines.Line2D at 0x209963a7970>]"
      ]
     },
     "execution_count": 33,
     "metadata": {},
     "output_type": "execute_result"
    },
    {
     "data": {
      "text/plain": [
       "[<matplotlib.lines.Line2D at 0x209963a7ca0>]"
      ]
     },
     "execution_count": 33,
     "metadata": {},
     "output_type": "execute_result"
    },
    {
     "data": {
      "text/plain": [
       "<Axes: >"
      ]
     },
     "execution_count": 33,
     "metadata": {},
     "output_type": "execute_result"
    },
    {
     "data": {
      "text/plain": [
       "[<matplotlib.lines.Line2D at 0x2099638e760>]"
      ]
     },
     "execution_count": 33,
     "metadata": {},
     "output_type": "execute_result"
    },
    {
     "data": {
      "text/plain": [
       "[<matplotlib.lines.Line2D at 0x209963a7f40>]"
      ]
     },
     "execution_count": 33,
     "metadata": {},
     "output_type": "execute_result"
    },
    {
     "data": {
      "text/plain": [
       "[<matplotlib.lines.Line2D at 0x209963af4f0>]"
      ]
     },
     "execution_count": 33,
     "metadata": {},
     "output_type": "execute_result"
    },
    {
     "data": {
      "text/plain": [
       "[<matplotlib.lines.Line2D at 0x209963af6d0>]"
      ]
     },
     "execution_count": 33,
     "metadata": {},
     "output_type": "execute_result"
    },
    {
     "data": {
      "text/plain": [
       "<Axes: >"
      ]
     },
     "execution_count": 33,
     "metadata": {},
     "output_type": "execute_result"
    },
    {
     "data": {
      "text/plain": [
       "[<matplotlib.lines.Line2D at 0x209963a72b0>]"
      ]
     },
     "execution_count": 33,
     "metadata": {},
     "output_type": "execute_result"
    },
    {
     "data": {
      "text/plain": [
       "[<matplotlib.lines.Line2D at 0x209963afd00>]"
      ]
     },
     "execution_count": 33,
     "metadata": {},
     "output_type": "execute_result"
    },
    {
     "data": {
      "text/plain": [
       "[<matplotlib.lines.Line2D at 0x209963affa0>]"
      ]
     },
     "execution_count": 33,
     "metadata": {},
     "output_type": "execute_result"
    },
    {
     "data": {
      "text/plain": [
       "[<matplotlib.lines.Line2D at 0x209963afa90>]"
      ]
     },
     "execution_count": 33,
     "metadata": {},
     "output_type": "execute_result"
    },
    {
     "data": {
      "text/plain": [
       "<matplotlib.legend.Legend at 0x209963a7d60>"
      ]
     },
     "execution_count": 33,
     "metadata": {},
     "output_type": "execute_result"
    },
    {
     "data": {
      "image/png": "[encoded data removed]",
      "text/plain": [
       "<Figure size 720x720 with 4 Axes>"
      ]
     },
     "metadata": {
      "needs_background": "light"
     },
     "output_type": "display_data"
    }
   ],
   "source": [
    "# 训练误差\n",
    "\n",
    "plt.subplots(nrows = 2, ncols = 2, figsize = ( 10, 10))\n",
    "plt.subplots_adjust(hspace= 0.5, wspace= 0.5)\n",
    "plt.subplot(221)\n",
    "for i, name in enumerate(name_l):\n",
    "    plt.plot(list(range(num_epochs)), train_l1[i])\n",
    "\n",
    "plt.subplot(222)\n",
    "for i, name in enumerate(name_l):\n",
    "    plt.plot(list(range(num_epochs)), train_l03[i])\n",
    "\n",
    "plt.subplot(223)\n",
    "for i, name in enumerate(name_l):\n",
    "    plt.plot(list(range(num_epochs)), train_l01[i])\n",
    "\n",
    "plt.subplot(224)\n",
    "for i, name in enumerate(name_l):\n",
    "    plt.plot(list(range(num_epochs)), train_l005[i], label=name)\n",
    "plt.legend(loc = 1)"
   ]
  },
  {
   "cell_type": "code",
   "execution_count": 34,
   "metadata": {},
   "outputs": [
    {
     "data": {
      "text/plain": [
       "<torch._C.Generator at 0x209e2438d90>"
      ]
     },
     "execution_count": 34,
     "metadata": {},
     "output_type": "execute_result"
    }
   ],
   "source": [
    "# 设置随机数种子\n",
    "torch.manual_seed(24)  \n",
    "\n",
    "# 实例化模型  \n",
    "tanh_model2 = net_class2(act_fun= torch.tanh, in_features=5)\n",
    "tanh_model2_norm = net_class2(act_fun= torch.tanh, in_features=5, BN_model='pre')\n",
    "     \n",
    "# 创建模型容器\n",
    "model_l = [tanh_model2, tanh_model2_norm]           \n",
    "name_l = ['tanh_model2', 'tanh_model2_norm']\n",
    "\n",
    "# 核心参数\n",
    "lr = 0.01\n",
    "num_epochs = 40\n",
    "\n",
    "# 模型训练\n",
    "train_ls, test_ls = model_comparison(model_l = model_l, \n",
    "                                     name_l = name_l, \n",
    "                                     train_data = train_loader,\n",
    "                                     test_data = test_loader,\n",
    "                                     num_epochs = num_epochs, \n",
    "                                     criterion = nn.MSELoss(), \n",
    "                                     optimizer = optim.SGD, \n",
    "                                     lr = lr, \n",
    "                                     cla = False, \n",
    "                                     eva = mse_cal)"
   ]
  },
  {
   "cell_type": "code",
   "execution_count": 35,
   "metadata": {},
   "outputs": [
    {
     "data": {
      "text/plain": [
       "[<matplotlib.lines.Line2D at 0x20995da8850>]"
      ]
     },
     "execution_count": 35,
     "metadata": {},
     "output_type": "execute_result"
    },
    {
     "data": {
      "text/plain": [
       "[<matplotlib.lines.Line2D at 0x20995cd32e0>]"
      ]
     },
     "execution_count": 35,
     "metadata": {},
     "output_type": "execute_result"
    },
    {
     "data": {
      "text/plain": [
       "<matplotlib.legend.Legend at 0x20995dbe580>"
      ]
     },
     "execution_count": 35,
     "metadata": {},
     "output_type": "execute_result"
    },
    {
     "data": {
      "text/plain": [
       "Text(0.5, 1.0, 'mse_train')"
      ]
     },
     "execution_count": 35,
     "metadata": {},
     "output_type": "execute_result"
    },
    {
     "data": {
      "image/png": "[encoded data removed]",
      "text/plain": [
       "<Figure size 432x288 with 1 Axes>"
      ]
     },
     "metadata": {
      "needs_background": "light"
     },
     "output_type": "display_data"
    }
   ],
   "source": [
    "# 训练误差\n",
    "for i, name in enumerate(name_l):\n",
    "    plt.plot(list(range(num_epochs)), train_ls[i], label=name)\n",
    "plt.legend(loc = 1)\n",
    "plt.title('mse_train')"
   ]
  },
  {
   "cell_type": "code",
   "execution_count": 36,
   "metadata": {},
   "outputs": [
    {
     "data": {
      "text/plain": [
       "<torch._C.Generator at 0x209e2438d90>"
      ]
     },
     "execution_count": 36,
     "metadata": {},
     "output_type": "execute_result"
    },
    {
     "data": {
      "text/plain": [
       "tensor(9.3185)"
      ]
     },
     "execution_count": 36,
     "metadata": {},
     "output_type": "execute_result"
    },
    {
     "data": {
      "text/plain": [
       "tensor(16.9204)"
      ]
     },
     "execution_count": 36,
     "metadata": {},
     "output_type": "execute_result"
    }
   ],
   "source": [
    "# 设置随机数种子\n",
    "torch.manual_seed(24)  \n",
    "\n",
    "# 实例化模型  \n",
    "tanh_model2 = net_class2(act_fun= torch.tanh, in_features=5)\n",
    "tanh_model2_norm = net_class2(act_fun= torch.tanh, in_features=5, BN_model='pre')\n",
    "     \n",
    "# 创建模型容器\n",
    "model_l = [tanh_model2, tanh_model2_norm]           \n",
    "name_l = ['tanh_model2', 'tanh_model2_norm']\n",
    "\n",
    "# 核心参数\n",
    "lr = 0.001\n",
    "num_epochs = 40\n",
    "\n",
    "# 模型训练\n",
    "train_lss, test_lss = model_comparison(model_l = model_l, \n",
    "                                       name_l = name_l, \n",
    "                                       train_data = train_loader,\n",
    "                                       test_data = test_loader,\n",
    "                                       num_epochs = num_epochs, \n",
    "                                       criterion = nn.MSELoss(), \n",
    "                                       optimizer = optim.SGD, \n",
    "                                       lr = lr, \n",
    "                                       cla = False, \n",
    "                                       eva = mse_cal)\n",
    "\n",
    "# 学习率为0.01时模型误差\n",
    "train_lss[1:,-5:].mean()\n",
    "test_lss[1:,-5:].mean()"
   ]
  },
  {
   "cell_type": "code",
   "execution_count": 37,
   "metadata": {},
   "outputs": [
    {
     "data": {
      "text/plain": [
       "<torch._C.Generator at 0x209e2438d90>"
      ]
     },
     "execution_count": 37,
     "metadata": {},
     "output_type": "execute_result"
    },
    {
     "data": {
      "text/plain": [
       "tensor(9.5439)"
      ]
     },
     "execution_count": 37,
     "metadata": {},
     "output_type": "execute_result"
    },
    {
     "data": {
      "text/plain": [
       "tensor(17.3678)"
      ]
     },
     "execution_count": 37,
     "metadata": {},
     "output_type": "execute_result"
    }
   ],
   "source": [
    " #设置随机数种子\n",
    "torch.manual_seed(24)  \n",
    "\n",
    "# 实例化模型  \n",
    "tanh_model2 = net_class2(act_fun= torch.tanh, in_features=5)\n",
    "tanh_model2_norm = net_class2(act_fun= torch.tanh, in_features=5, BN_model='pre')\n",
    "     \n",
    "# 创建模型容器\n",
    "model_l = [tanh_model2, tanh_model2_norm]           \n",
    "name_l = ['tanh_model2', 'tanh_model2_norm']\n",
    "\n",
    "# 核心参数\n",
    "lr = 0.005\n",
    "num_epochs = 40\n",
    "\n",
    "# 模型训练\n",
    "train_lms, test_lms = model_comparison(model_l = model_l, \n",
    "                                       name_l = name_l, \n",
    "                                       train_data = train_loader,\n",
    "                                       test_data = test_loader,\n",
    "                                       num_epochs = num_epochs, \n",
    "                                       criterion = nn.MSELoss(), \n",
    "                                       optimizer = optim.SGD, \n",
    "                                       lr = lr, \n",
    "                                       cla = False, \n",
    "                                       eva = mse_cal)\n",
    "\n",
    "# 学习率为0.05时模型误差\n",
    "train_lms[1:,-5:].mean()\n",
    "test_lms[1:,-5:].mean()"
   ]
  },
  {
   "cell_type": "code",
   "execution_count": 38,
   "metadata": {},
   "outputs": [],
   "source": [
    "lr_l = [0.03, 0.01, 0.005, 0.001]\n",
    "train_ln = [train_lh[1:,-5:].mean(), train_ls[1:,-5:].mean(), train_lms[1:,-5:].mean(), train_lss[1:,-5:].mean()]\n",
    "test_ln = [test_lh[1:,-5:].mean(), test_ls[1:,-5:].mean(), test_lms[1:,-5:].mean(), test_lss[1:,-5:].mean()]"
   ]
  },
  {
   "cell_type": "code",
   "execution_count": 39,
   "metadata": {},
   "outputs": [
    {
     "data": {
      "text/plain": [
       "[<matplotlib.lines.Line2D at 0x2099641cc70>]"
      ]
     },
     "execution_count": 39,
     "metadata": {},
     "output_type": "execute_result"
    },
    {
     "data": {
      "text/plain": [
       "[<matplotlib.lines.Line2D at 0x2099645e280>]"
      ]
     },
     "execution_count": 39,
     "metadata": {},
     "output_type": "execute_result"
    },
    {
     "data": {
      "text/plain": [
       "<matplotlib.legend.Legend at 0x20996424dc0>"
      ]
     },
     "execution_count": 39,
     "metadata": {},
     "output_type": "execute_result"
    },
    {
     "data": {
      "image/png": "[encoded data removed]",
      "text/plain": [
       "<Figure size 432x288 with 1 Axes>"
      ]
     },
     "metadata": {
      "needs_background": "light"
     },
     "output_type": "display_data"
    }
   ],
   "source": [
    "plt.plot(lr_l, train_ln, label='train_mse')\n",
    "plt.plot(lr_l, test_ln, label='test_mse')\n",
    "plt.legend(loc = 1)\n",
    "#plt.ylim(0, 15)"
   ]
  },
  {
   "cell_type": "code",
   "execution_count": 40,
   "metadata": {},
   "outputs": [],
   "source": [
    "lr_l = [0.03, 0.01, 0.005, 0.001]\n",
    "train_ln = [train_lh[1:,-5:].mean(), train_ls[1:,-5:].mean(), train_lms[1:,-5:].mean(), train_lss[1:,-5:].mean()]\n",
    "test_ln = [test_lh[1:,-5:].mean(), test_ls[1:,-5:].mean(), test_lms[1:,-5:].mean(), test_lss[1:,-5:].mean()]\n",
    "train_l = [train_lh[0:,-5:].mean(), train_ls[0:,-5:].mean(), train_lms[0:,-5:].mean(), train_lss[0:,-5:].mean()]\n",
    "test_l = [test_lh[0:,-5:].mean(), test_ls[0:,-5:].mean(), test_lms[0:,-5:].mean(), test_lss[0:,-5:].mean()]"
   ]
  },
  {
   "cell_type": "code",
   "execution_count": 41,
   "metadata": {},
   "outputs": [
    {
     "data": {
      "text/plain": [
       "<Axes: >"
      ]
     },
     "execution_count": 41,
     "metadata": {},
     "output_type": "execute_result"
    },
    {
     "data": {
      "text/plain": [
       "[<matplotlib.lines.Line2D at 0x209964dd850>]"
      ]
     },
     "execution_count": 41,
     "metadata": {},
     "output_type": "execute_result"
    },
    {
     "data": {
      "text/plain": [
       "[<matplotlib.lines.Line2D at 0x209964ddb50>]"
      ]
     },
     "execution_count": 41,
     "metadata": {},
     "output_type": "execute_result"
    },
    {
     "data": {
      "text/plain": [
       "<matplotlib.legend.Legend at 0x209964322b0>"
      ]
     },
     "execution_count": 41,
     "metadata": {},
     "output_type": "execute_result"
    },
    {
     "data": {
      "text/plain": [
       "(4.0, 25.0)"
      ]
     },
     "execution_count": 41,
     "metadata": {},
     "output_type": "execute_result"
    },
    {
     "data": {
      "text/plain": [
       "Text(0.5, 1.0, 'With BN(tanh2)')"
      ]
     },
     "execution_count": 41,
     "metadata": {},
     "output_type": "execute_result"
    },
    {
     "data": {
      "text/plain": [
       "<Axes: >"
      ]
     },
     "execution_count": 41,
     "metadata": {},
     "output_type": "execute_result"
    },
    {
     "data": {
      "text/plain": [
       "[<matplotlib.lines.Line2D at 0x209964ece80>]"
      ]
     },
     "execution_count": 41,
     "metadata": {},
     "output_type": "execute_result"
    },
    {
     "data": {
      "text/plain": [
       "[<matplotlib.lines.Line2D at 0x20996521d90>]"
      ]
     },
     "execution_count": 41,
     "metadata": {},
     "output_type": "execute_result"
    },
    {
     "data": {
      "text/plain": [
       "<matplotlib.legend.Legend at 0x209964dddf0>"
      ]
     },
     "execution_count": 41,
     "metadata": {},
     "output_type": "execute_result"
    },
    {
     "data": {
      "text/plain": [
       "(4.0, 25.0)"
      ]
     },
     "execution_count": 41,
     "metadata": {},
     "output_type": "execute_result"
    },
    {
     "data": {
      "text/plain": [
       "Text(0.5, 1.0, 'Without BN(tanh2)')"
      ]
     },
     "execution_count": 41,
     "metadata": {},
     "output_type": "execute_result"
    },
    {
     "data": {
      "image/png": "[encoded data removed]",
      "text/plain": [
       "<Figure size 432x288 with 2 Axes>"
      ]
     },
     "metadata": {
      "needs_background": "light"
     },
     "output_type": "display_data"
    }
   ],
   "source": [
    "plt.subplot(121)\n",
    "plt.plot(lr_l, train_ln, label='train_mse')\n",
    "plt.plot(lr_l, test_ln, label='test_mse')\n",
    "plt.legend(loc = 1)\n",
    "plt.ylim(4, 25)\n",
    "plt.title('With BN(tanh2)')\n",
    "plt.subplot(122)\n",
    "plt.plot(lr_l, train_l, label='train_mse')\n",
    "plt.plot(lr_l, test_l, label='test_mse')\n",
    "plt.legend(loc = 1)\n",
    "plt.ylim(4, 25)\n",
    "plt.title('Without BN(tanh2)')"
   ]
  },
  {
   "cell_type": "code",
   "execution_count": 42,
   "metadata": {},
   "outputs": [
    {
     "data": {
      "text/plain": [
       "<torch._C.Generator at 0x209e2438d90>"
      ]
     },
     "execution_count": 42,
     "metadata": {},
     "output_type": "execute_result"
    }
   ],
   "source": [
    "# 设置随机数种子\n",
    "torch.manual_seed(24)  \n",
    "\n",
    "# 实例化模型  \n",
    "tanh_model3 = net_class3(act_fun= torch.tanh, in_features=5)\n",
    "tanh_model3_norm = net_class3(act_fun= torch.tanh, in_features=5, BN_model='pre')\n",
    "tanh_model4 = net_class4(act_fun= torch.tanh, in_features=5)\n",
    "tanh_model4_norm = net_class4(act_fun= torch.tanh, in_features=5, BN_model='pre')\n",
    "     \n",
    "# 创建模型容器\n",
    "model_l = [tanh_model3, tanh_model3_norm, tanh_model4, tanh_model4_norm]           \n",
    "name_l = ['tanh_model3', 'tanh_model3_norm', 'tanh_model4', 'tanh_model4_norm']\n",
    "\n",
    "# 核心参数\n",
    "lr = 0.001\n",
    "num_epochs = 40\n",
    "\n",
    "# 模型训练\n",
    "train_l001, test_l001 = model_comparison(model_l = model_l, \n",
    "                                         name_l = name_l, \n",
    "                                         train_data = train_loader,\n",
    "                                         test_data = test_loader,\n",
    "                                         num_epochs = num_epochs, \n",
    "                                         criterion = nn.MSELoss(), \n",
    "                                         optimizer = optim.SGD, \n",
    "                                         lr = lr, \n",
    "                                         cla = False, \n",
    "                                         eva = mse_cal)"
   ]
  },
  {
   "cell_type": "code",
   "execution_count": 43,
   "metadata": {},
   "outputs": [],
   "source": [
    "lr_l = [0.03, 0.01, 0.005, 0.001]\n",
    "train_ln = [train_l03[1:,-5:].mean(), train_l01[1:,-5:].mean(), train_l005[1:,-5:].mean(), train_l001[1:,-5:].mean()]\n",
    "test_ln = [test_l03[1:,-5:].mean(), test_l01[1:,-5:].mean(), test_l005[1:,-5:].mean(), test_l001[1:,-5:].mean()]\n",
    "train_l = [train_l03[0:,-5:].mean(), train_l01[0:,-5:].mean(), train_l005[0:,-5:].mean(), train_l001[0:,-5:].mean()]\n",
    "test_l = [test_l03[0:,-5:].mean(), test_l01[0:,-5:].mean(), test_l005[0:,-5:].mean(), test_l1[0:,-5:].mean()]"
   ]
  },
  {
   "cell_type": "code",
   "execution_count": 44,
   "metadata": {},
   "outputs": [
    {
     "data": {
      "text/plain": [
       "<Axes: >"
      ]
     },
     "execution_count": 44,
     "metadata": {},
     "output_type": "execute_result"
    },
    {
     "data": {
      "text/plain": [
       "[<matplotlib.lines.Line2D at 0x209977a3970>]"
      ]
     },
     "execution_count": 44,
     "metadata": {},
     "output_type": "execute_result"
    },
    {
     "data": {
      "text/plain": [
       "[<matplotlib.lines.Line2D at 0x209977a3c70>]"
      ]
     },
     "execution_count": 44,
     "metadata": {},
     "output_type": "execute_result"
    },
    {
     "data": {
      "text/plain": [
       "<matplotlib.legend.Legend at 0x20996548eb0>"
      ]
     },
     "execution_count": 44,
     "metadata": {},
     "output_type": "execute_result"
    },
    {
     "data": {
      "text/plain": [
       "(4.0, 25.0)"
      ]
     },
     "execution_count": 44,
     "metadata": {},
     "output_type": "execute_result"
    },
    {
     "data": {
      "text/plain": [
       "Text(0.5, 1.0, 'With BN(tanh3)')"
      ]
     },
     "execution_count": 44,
     "metadata": {},
     "output_type": "execute_result"
    },
    {
     "data": {
      "text/plain": [
       "<Axes: >"
      ]
     },
     "execution_count": 44,
     "metadata": {},
     "output_type": "execute_result"
    },
    {
     "data": {
      "text/plain": [
       "[<matplotlib.lines.Line2D at 0x209944f7220>]"
      ]
     },
     "execution_count": 44,
     "metadata": {},
     "output_type": "execute_result"
    },
    {
     "data": {
      "text/plain": [
       "[<matplotlib.lines.Line2D at 0x209977fa040>]"
      ]
     },
     "execution_count": 44,
     "metadata": {},
     "output_type": "execute_result"
    },
    {
     "data": {
      "text/plain": [
       "<matplotlib.legend.Legend at 0x20996548fd0>"
      ]
     },
     "execution_count": 44,
     "metadata": {},
     "output_type": "execute_result"
    },
    {
     "data": {
      "text/plain": [
       "(4.0, 25.0)"
      ]
     },
     "execution_count": 44,
     "metadata": {},
     "output_type": "execute_result"
    },
    {
     "data": {
      "text/plain": [
       "Text(0.5, 1.0, 'Without BN(tanh3)')"
      ]
     },
     "execution_count": 44,
     "metadata": {},
     "output_type": "execute_result"
    },
    {
     "data": {
      "image/png": "[encoded data removed]",
      "text/plain": [
       "<Figure size 432x288 with 2 Axes>"
      ]
     },
     "metadata": {
      "needs_background": "light"
     },
     "output_type": "display_data"
    }
   ],
   "source": [
    "plt.subplot(121)\n",
    "plt.plot(lr_l, train_ln, label='train_mse')\n",
    "plt.plot(lr_l, test_ln, label='test_mse')\n",
    "plt.legend(loc = 1)\n",
    "plt.ylim(4, 25)\n",
    "plt.title('With BN(tanh3)')\n",
    "plt.subplot(122)\n",
    "plt.plot(lr_l, train_l, label='train_mse')\n",
    "plt.plot(lr_l, test_l, label='test_mse')\n",
    "plt.legend(loc = 1)\n",
    "plt.ylim(4, 25)\n",
    "plt.title('Without BN(tanh3)')"
   ]
  },
  {
   "cell_type": "code",
   "execution_count": 45,
   "metadata": {},
   "outputs": [],
   "source": [
    "lr_l = [0.03, 0.01, 0.005, 0.001]\n",
    "train_ln = [train_l03[3:,-5:].mean(), train_l01[3:,-5:].mean(), train_l005[3:,-5:].mean(), train_l001[3:,-5:].mean()]\n",
    "test_ln = [test_l03[3:,-5:].mean(), test_l01[3:,-5:].mean(), test_l005[3:,-5:].mean(), test_l001[3:,-5:].mean()]\n",
    "train_l = [train_l03[2:,-5:].mean(), train_l01[2:,-5:].mean(), train_l005[2:,-5:].mean(), train_l001[2:,-5:].mean()]\n",
    "test_l = [test_l03[2:,-5:].mean(), test_l01[2:,-5:].mean(), test_l005[2:,-5:].mean(), test_l1[2:,-5:].mean()]"
   ]
  },
  {
   "cell_type": "code",
   "execution_count": 46,
   "metadata": {},
   "outputs": [
    {
     "data": {
      "text/plain": [
       "<Axes: >"
      ]
     },
     "execution_count": 46,
     "metadata": {},
     "output_type": "execute_result"
    },
    {
     "data": {
      "text/plain": [
       "[<matplotlib.lines.Line2D at 0x209978a5e50>]"
      ]
     },
     "execution_count": 46,
     "metadata": {},
     "output_type": "execute_result"
    },
    {
     "data": {
      "text/plain": [
       "[<matplotlib.lines.Line2D at 0x209978b6160>]"
      ]
     },
     "execution_count": 46,
     "metadata": {},
     "output_type": "execute_result"
    },
    {
     "data": {
      "text/plain": [
       "<matplotlib.legend.Legend at 0x2099658b790>"
      ]
     },
     "execution_count": 46,
     "metadata": {},
     "output_type": "execute_result"
    },
    {
     "data": {
      "text/plain": [
       "(4.0, 25.0)"
      ]
     },
     "execution_count": 46,
     "metadata": {},
     "output_type": "execute_result"
    },
    {
     "data": {
      "text/plain": [
       "Text(0.5, 1.0, 'With BN(tanh4)')"
      ]
     },
     "execution_count": 46,
     "metadata": {},
     "output_type": "execute_result"
    },
    {
     "data": {
      "text/plain": [
       "<Axes: >"
      ]
     },
     "execution_count": 46,
     "metadata": {},
     "output_type": "execute_result"
    },
    {
     "data": {
      "text/plain": [
       "[<matplotlib.lines.Line2D at 0x209978cf790>]"
      ]
     },
     "execution_count": 46,
     "metadata": {},
     "output_type": "execute_result"
    },
    {
     "data": {
      "text/plain": [
       "[<matplotlib.lines.Line2D at 0x209978f53d0>]"
      ]
     },
     "execution_count": 46,
     "metadata": {},
     "output_type": "execute_result"
    },
    {
     "data": {
      "text/plain": [
       "<matplotlib.legend.Legend at 0x2099787b280>"
      ]
     },
     "execution_count": 46,
     "metadata": {},
     "output_type": "execute_result"
    },
    {
     "data": {
      "text/plain": [
       "(4.0, 25.0)"
      ]
     },
     "execution_count": 46,
     "metadata": {},
     "output_type": "execute_result"
    },
    {
     "data": {
      "text/plain": [
       "Text(0.5, 1.0, 'Without BN(tanh4)')"
      ]
     },
     "execution_count": 46,
     "metadata": {},
     "output_type": "execute_result"
    },
    {
     "data": {
      "image/png": "[encoded data removed]",
      "text/plain": [
       "<Figure size 432x288 with 2 Axes>"
      ]
     },
     "metadata": {
      "needs_background": "light"
     },
     "output_type": "display_data"
    }
   ],
   "source": [
    "plt.subplot(121)\n",
    "plt.plot(lr_l, train_ln, label='train_mse')\n",
    "plt.plot(lr_l, test_ln, label='test_mse')\n",
    "plt.legend(loc = 1)\n",
    "plt.ylim(4, 25)\n",
    "plt.title('With BN(tanh4)')\n",
    "plt.subplot(122)\n",
    "plt.plot(lr_l, train_l, label='train_mse')\n",
    "plt.plot(lr_l, test_l, label='test_mse')\n",
    "plt.legend(loc = 1)\n",
    "plt.ylim(4, 25)\n",
    "plt.title('Without BN(tanh4)')"
   ]
  },
  {
   "attachments": {},
   "cell_type": "markdown",
   "metadata": {},
   "source": [
    "## 四、带BN层的神经网络模型综合调整策略总结"
   ]
  }
 ],
 "metadata": {
  "kernelspec": {
   "display_name": "torch",
   "language": "python",
   "name": "python3"
  },
  "language_info": {
   "codemirror_mode": {
    "name": "ipython",
    "version": 3
   },
   "file_extension": ".py",
   "mimetype": "text/x-python",
   "name": "python",
   "nbconvert_exporter": "python",
   "pygments_lexer": "ipython3",
   "version": "3.9.16"
  },
  "orig_nbformat": 4
 },
 "nbformat": 4,
 "nbformat_minor": 2
}
