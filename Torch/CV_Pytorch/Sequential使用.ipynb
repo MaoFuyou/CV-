{
 "cells": [
  {
   "cell_type": "markdown",
   "metadata": {},
   "source": []
  },
  {
   "cell_type": "code",
   "execution_count": 1,
   "metadata": {},
   "outputs": [],
   "source": [
    "import torch\n",
    "from torch import nn"
   ]
  },
  {
   "cell_type": "code",
   "execution_count": 2,
   "metadata": {},
   "outputs": [],
   "source": [
    "data = torch.ones(size=(10,3,229,229))"
   ]
  },
  {
   "cell_type": "code",
   "execution_count": 18,
   "metadata": {},
   "outputs": [],
   "source": [
    "net = nn.Sequential(nn.Conv2d(3,6,3),\n",
    "                    nn.ReLU(inplace=True),\n",
    "                    nn.Conv2d(6,4,3),\n",
    "                    nn.ReLU(inplace=True),\n",
    "                    nn.MaxPool2d(2),\n",
    "                    nn.Conv2d(4,16,5,stride=2,padding=1),\n",
    "                    nn.ReLU(inplace=True),\n",
    "                    nn.Conv2d(16,3,5,stride=3,padding=2),\n",
    "                    nn.ReLU(inplace=True),\n",
    "                    nn.MaxPool2d(2)\n",
    "                    )"
   ]
  },
  {
   "cell_type": "code",
   "execution_count": 19,
   "metadata": {},
   "outputs": [
    {
     "data": {
      "text/plain": [
       "torch.Size([10, 3, 9, 9])"
      ]
     },
     "execution_count": 19,
     "metadata": {},
     "output_type": "execute_result"
    }
   ],
   "source": [
    "net(data).shape\n",
    "#卷积+池化操作后得到的特征图尺寸饿大小以及特征图的数量"
   ]
  },
  {
   "cell_type": "code",
   "execution_count": 21,
   "metadata": {},
   "outputs": [],
   "source": [
    "net = net.cuda()"
   ]
  },
  {
   "cell_type": "code",
   "execution_count": 22,
   "metadata": {},
   "outputs": [],
   "source": [
    "from torch_receptive_field import receptive_field"
   ]
  },
  {
   "cell_type": "code",
   "execution_count": 23,
   "metadata": {},
   "outputs": [
    {
     "name": "stdout",
     "output_type": "stream",
     "text": [
      "------------------------------------------------------------------------------\n",
      "        Layer (type)    map size      start       jump receptive_field \n",
      "==============================================================================\n",
      "        0             [229, 229]        0.5        1.0             1.0 \n",
      "        1             [227, 227]        1.5        1.0             3.0 \n",
      "        2             [227, 227]        1.5        1.0             3.0 \n",
      "        3             [225, 225]        2.5        1.0             5.0 \n",
      "        4             [225, 225]        2.5        1.0             5.0 \n",
      "        5             [112, 112]        3.0        2.0             6.0 \n",
      "        6               [55, 55]        5.0        4.0            14.0 \n",
      "        7               [55, 55]        5.0        4.0            14.0 \n",
      "        8               [19, 19]        5.0       12.0            30.0 \n",
      "        9               [19, 19]        5.0       12.0            30.0 \n",
      "        10                [9, 9]       11.0       24.0            42.0 \n",
      "==============================================================================\n"
     ]
    }
   ],
   "source": [
    "rfdict = receptive_field(net,(3,229,229))"
   ]
  },
  {
   "attachments": {},
   "cell_type": "markdown",
   "metadata": {},
   "source": [
    "VGG16 -Sequential使用方式"
   ]
  },
  {
   "cell_type": "code",
   "execution_count": 48,
   "metadata": {},
   "outputs": [],
   "source": [
    "class NewVGG16(nn.Module):\n",
    "    def __init__(self):\n",
    "        super().__init__()\n",
    "        self.feature_ = nn.Sequential(nn.Conv2d(3,64,3,padding=1),\n",
    "                                      nn.ReLU(inplace=True),\n",
    "                                      nn.Conv2d(64,64,3,padding=1),\n",
    "                                      nn.ReLU(inplace=True),\n",
    "                                      nn.MaxPool2d(2),\n",
    "\n",
    "                                      nn.Conv2d(64,128,3,padding=1),\n",
    "                                      nn.ReLU(inplace=True),\n",
    "                                      nn.Conv2d(128,128,3,padding=1),\n",
    "                                      nn.ReLU(inplace=True),\n",
    "                                      nn.MaxPool2d(2),\n",
    "\n",
    "                                      nn.Conv2d(128,256,3,padding=1),\n",
    "                                      nn.ReLU(inplace=True),\n",
    "                                      nn.Conv2d(256,256,3,padding=1),\n",
    "                                      nn.ReLU(inplace=True),\n",
    "                                      nn.Conv2d(256,256,3,padding=1),\n",
    "                                      nn.ReLU(inplace=True),\n",
    "                                      nn.MaxPool2d(2),\n",
    "\n",
    "                                      nn.Conv2d(256,512,3,padding=1),\n",
    "                                      nn.ReLU(inplace=True),\n",
    "                                      nn.Conv2d(512,512,3,padding=1),\n",
    "                                      nn.ReLU(inplace=True),\n",
    "                                      nn.Conv2d(512,512,3,padding=1),\n",
    "                                      nn.ReLU(inplace=True),\n",
    "                                      nn.MaxPool2d(2),\n",
    "\n",
    "                                      nn.Conv2d(512,512,3,padding=1),\n",
    "                                      nn.ReLU(inplace=True),\n",
    "                                      nn.Conv2d(512,512,3,padding=1),\n",
    "                                      nn.ReLU(inplace=True),\n",
    "                                      nn.Conv2d(512,512,3,padding=1),\n",
    "                                      nn.ReLU(inplace=True),\n",
    "                                      nn.MaxPool2d(2)\n",
    "                                      )\n",
    "        \n",
    "        self.clf_ = nn.Sequential(\n",
    "                                nn.Dropout(0.5),\n",
    "                                nn.Linear(512*7*7,4096),\n",
    "                                nn.ReLU(inplace=True),\n",
    "                                nn.Dropout(0.5),\n",
    "                                nn.Linear(4096,4096),\n",
    "                                nn.ReLU(inplace=True),\n",
    "                                nn.Linear(4096,1000),\n",
    "                                nn.Softmax(dim=1)\n",
    "        )\n",
    "    def forward(self,x):\n",
    "        x = self.feature_(x)\n",
    "        x = x.view(-1,512*7*7)\n",
    "        output = self.clf_(x)\n",
    "        return output"
   ]
  },
  {
   "cell_type": "code",
   "execution_count": 49,
   "metadata": {},
   "outputs": [],
   "source": [
    "data1 = torch.ones(size=(10,3,224,224))"
   ]
  },
  {
   "cell_type": "code",
   "execution_count": 50,
   "metadata": {},
   "outputs": [
    {
     "data": {
      "text/plain": [
       "torch.Size([10, 512, 7, 7])"
      ]
     },
     "execution_count": 50,
     "metadata": {},
     "output_type": "execute_result"
    }
   ],
   "source": [
    "net1(data1).shape"
   ]
  },
  {
   "cell_type": "code",
   "execution_count": 51,
   "metadata": {},
   "outputs": [],
   "source": [
    "vgg = NewVGG16()\n"
   ]
  },
  {
   "cell_type": "code",
   "execution_count": 52,
   "metadata": {},
   "outputs": [],
   "source": [
    "from torchinfo import summary"
   ]
  },
  {
   "cell_type": "code",
   "execution_count": 53,
   "metadata": {},
   "outputs": [
    {
     "data": {
      "text/plain": [
       "==========================================================================================\n",
       "Layer (type:depth-idx)                   Output Shape              Param #\n",
       "==========================================================================================\n",
       "NewVGG16                                 [1, 1000]                 --\n",
       "├─Sequential: 1-1                        [512, 7, 7]               --\n",
       "│    └─Conv2d: 2-1                       [64, 224, 224]            1,792\n",
       "│    └─ReLU: 2-2                         [64, 224, 224]            --\n",
       "│    └─Conv2d: 2-3                       [64, 224, 224]            36,928\n",
       "│    └─ReLU: 2-4                         [64, 224, 224]            --\n",
       "│    └─MaxPool2d: 2-5                    [64, 112, 112]            --\n",
       "│    └─Conv2d: 2-6                       [128, 112, 112]           73,856\n",
       "│    └─ReLU: 2-7                         [128, 112, 112]           --\n",
       "│    └─Conv2d: 2-8                       [128, 112, 112]           147,584\n",
       "│    └─ReLU: 2-9                         [128, 112, 112]           --\n",
       "│    └─MaxPool2d: 2-10                   [128, 56, 56]             --\n",
       "│    └─Conv2d: 2-11                      [256, 56, 56]             295,168\n",
       "│    └─ReLU: 2-12                        [256, 56, 56]             --\n",
       "│    └─Conv2d: 2-13                      [256, 56, 56]             590,080\n",
       "│    └─ReLU: 2-14                        [256, 56, 56]             --\n",
       "│    └─Conv2d: 2-15                      [256, 56, 56]             590,080\n",
       "│    └─ReLU: 2-16                        [256, 56, 56]             --\n",
       "│    └─MaxPool2d: 2-17                   [256, 28, 28]             --\n",
       "│    └─Conv2d: 2-18                      [512, 28, 28]             1,180,160\n",
       "│    └─ReLU: 2-19                        [512, 28, 28]             --\n",
       "│    └─Conv2d: 2-20                      [512, 28, 28]             2,359,808\n",
       "│    └─ReLU: 2-21                        [512, 28, 28]             --\n",
       "│    └─Conv2d: 2-22                      [512, 28, 28]             2,359,808\n",
       "│    └─ReLU: 2-23                        [512, 28, 28]             --\n",
       "│    └─MaxPool2d: 2-24                   [512, 14, 14]             --\n",
       "│    └─Conv2d: 2-25                      [512, 14, 14]             2,359,808\n",
       "│    └─ReLU: 2-26                        [512, 14, 14]             --\n",
       "│    └─Conv2d: 2-27                      [512, 14, 14]             2,359,808\n",
       "│    └─ReLU: 2-28                        [512, 14, 14]             --\n",
       "│    └─Conv2d: 2-29                      [512, 14, 14]             2,359,808\n",
       "│    └─ReLU: 2-30                        [512, 14, 14]             --\n",
       "│    └─MaxPool2d: 2-31                   [512, 7, 7]               --\n",
       "├─Sequential: 1-2                        [1, 1000]                 --\n",
       "│    └─Dropout: 2-32                     [1, 25088]                --\n",
       "│    └─Linear: 2-33                      [1, 4096]                 102,764,544\n",
       "│    └─ReLU: 2-34                        [1, 4096]                 --\n",
       "│    └─Dropout: 2-35                     [1, 4096]                 --\n",
       "│    └─Linear: 2-36                      [1, 4096]                 16,781,312\n",
       "│    └─ReLU: 2-37                        [1, 4096]                 --\n",
       "│    └─Linear: 2-38                      [1, 1000]                 4,097,000\n",
       "│    └─Softmax: 2-39                     [1, 1000]                 --\n",
       "==========================================================================================\n",
       "Total params: 138,357,544\n",
       "Trainable params: 138,357,544\n",
       "Non-trainable params: 0\n",
       "Total mult-adds (G): 160.33\n",
       "==========================================================================================\n",
       "Input size (MB): 0.60\n",
       "Forward/backward pass size (MB): 108.45\n",
       "Params size (MB): 553.43\n",
       "Estimated Total Size (MB): 662.49\n",
       "=========================================================================================="
      ]
     },
     "execution_count": 53,
     "metadata": {},
     "output_type": "execute_result"
    }
   ],
   "source": [
    "summary(vgg,input_size=(3,224,224))"
   ]
  },
  {
   "cell_type": "code",
   "execution_count": null,
   "metadata": {},
   "outputs": [],
   "source": []
  }
 ],
 "metadata": {
  "kernelspec": {
   "display_name": "torch",
   "language": "python",
   "name": "python3"
  },
  "language_info": {
   "codemirror_mode": {
    "name": "ipython",
    "version": 3
   },
   "file_extension": ".py",
   "mimetype": "text/x-python",
   "name": "python",
   "nbconvert_exporter": "python",
   "pygments_lexer": "ipython3",
   "version": "3.9.16"
  },
  "orig_nbformat": 4
 },
 "nbformat": 4,
 "nbformat_minor": 2
}
